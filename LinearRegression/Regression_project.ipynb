{
 "cells": [
  {
   "cell_type": "markdown",
   "metadata": {},
   "source": [
    "## Regression"
   ]
  },
  {
   "cell_type": "markdown",
   "metadata": {},
   "source": [
    "### Business Problem"
   ]
  },
  {
   "cell_type": "markdown",
   "metadata": {},
   "source": [
    "You recently started working for a company that manufactures and sells high-end home goods. Last year the company sent out its first print catalog, and is preparing to send out this year's catalog in the coming months. The company has 250 new customers from their mailing list that they want to send the catalog to.\n",
    "\n",
    "Your manager has been asked to determine how much profit the company can expect from sending a catalog to these customers. You, the business analyst, are assigned to help your manager run the numbers. While fairly knowledgeable about data analysis, your manager is not very familiar with predictive models.\n",
    "\n",
    "You’ve been asked to predict the expected profit from these 250 new customers. Management does not want to send the catalog out to these new customers unless the expected profit contribution exceeds $10,000."
   ]
  },
  {
   "cell_type": "markdown",
   "metadata": {},
   "source": [
    "#### Details"
   ]
  },
  {
   "cell_type": "markdown",
   "metadata": {},
   "source": [
    "    \n",
    "        \n",
    "<ol>\n",
    "  <p><li>The costs of printing and distributing is $6.50 per catalog.</li>\n",
    "  \n",
    "  <li>The average gross margin (price - cost) on all products sold through the catalog is 50%. </li>\n",
    "  \n",
    "  <li> Make sure to multiply your revenue by the gross margin first before you subtract out the $6.50 cost when calculating your profit.</li>\n",
    "    </p>\n",
    "</ol>"
   ]
  },
  {
   "cell_type": "code",
   "execution_count": 1,
   "metadata": {},
   "outputs": [],
   "source": [
    "import matplotlib.pyplot as plt\n",
    "import pandas as pd\n",
    "import pylab as pl\n",
    "import numpy as np\n",
    "%matplotlib inline"
   ]
  },
  {
   "cell_type": "code",
   "execution_count": 3,
   "metadata": {
    "scrolled": true
   },
   "outputs": [
    {
     "data": {
      "text/html": [
       "<div>\n",
       "<style scoped>\n",
       "    .dataframe tbody tr th:only-of-type {\n",
       "        vertical-align: middle;\n",
       "    }\n",
       "\n",
       "    .dataframe tbody tr th {\n",
       "        vertical-align: top;\n",
       "    }\n",
       "\n",
       "    .dataframe thead th {\n",
       "        text-align: right;\n",
       "    }\n",
       "</style>\n",
       "<table border=\"1\" class=\"dataframe\">\n",
       "  <thead>\n",
       "    <tr style=\"text-align: right;\">\n",
       "      <th></th>\n",
       "      <th>Name</th>\n",
       "      <th>Customer_Segment</th>\n",
       "      <th>Customer_ID</th>\n",
       "      <th>Address</th>\n",
       "      <th>City</th>\n",
       "      <th>State</th>\n",
       "      <th>ZIP</th>\n",
       "      <th>Avg_Sale_Amount</th>\n",
       "      <th>Store_Number</th>\n",
       "      <th>Responded_to_Last_Catalog</th>\n",
       "      <th>Avg_Num_Products_Purchased</th>\n",
       "      <th>#_Years_as_Customer</th>\n",
       "    </tr>\n",
       "  </thead>\n",
       "  <tbody>\n",
       "    <tr>\n",
       "      <th>0</th>\n",
       "      <td>Pamela Wright</td>\n",
       "      <td>Store Mailing List</td>\n",
       "      <td>2</td>\n",
       "      <td>376 S Jasmine St</td>\n",
       "      <td>Denver</td>\n",
       "      <td>CO</td>\n",
       "      <td>80224</td>\n",
       "      <td>227.90</td>\n",
       "      <td>100</td>\n",
       "      <td>No</td>\n",
       "      <td>1</td>\n",
       "      <td>6</td>\n",
       "    </tr>\n",
       "    <tr>\n",
       "      <th>1</th>\n",
       "      <td>Danell Valdez</td>\n",
       "      <td>Store Mailing List</td>\n",
       "      <td>7</td>\n",
       "      <td>12066 E Lake Cir</td>\n",
       "      <td>Greenwood Village</td>\n",
       "      <td>CO</td>\n",
       "      <td>80111</td>\n",
       "      <td>55.00</td>\n",
       "      <td>105</td>\n",
       "      <td>Yes</td>\n",
       "      <td>1</td>\n",
       "      <td>6</td>\n",
       "    </tr>\n",
       "    <tr>\n",
       "      <th>2</th>\n",
       "      <td>Jessica Rinehart</td>\n",
       "      <td>Store Mailing List</td>\n",
       "      <td>8</td>\n",
       "      <td>7225 S Gaylord St</td>\n",
       "      <td>Centennial</td>\n",
       "      <td>CO</td>\n",
       "      <td>80122</td>\n",
       "      <td>212.57</td>\n",
       "      <td>101</td>\n",
       "      <td>No</td>\n",
       "      <td>1</td>\n",
       "      <td>3</td>\n",
       "    </tr>\n",
       "    <tr>\n",
       "      <th>3</th>\n",
       "      <td>Nancy Clark</td>\n",
       "      <td>Store Mailing List</td>\n",
       "      <td>9</td>\n",
       "      <td>4497 Cornish Way</td>\n",
       "      <td>Denver</td>\n",
       "      <td>CO</td>\n",
       "      <td>80239</td>\n",
       "      <td>195.31</td>\n",
       "      <td>105</td>\n",
       "      <td>Yes</td>\n",
       "      <td>1</td>\n",
       "      <td>6</td>\n",
       "    </tr>\n",
       "    <tr>\n",
       "      <th>4</th>\n",
       "      <td>Andrea Brun</td>\n",
       "      <td>Store Mailing List</td>\n",
       "      <td>10</td>\n",
       "      <td>2316 E 5th Ave</td>\n",
       "      <td>Denver</td>\n",
       "      <td>CO</td>\n",
       "      <td>80206</td>\n",
       "      <td>110.55</td>\n",
       "      <td>100</td>\n",
       "      <td>Yes</td>\n",
       "      <td>1</td>\n",
       "      <td>2</td>\n",
       "    </tr>\n",
       "  </tbody>\n",
       "</table>\n",
       "</div>"
      ],
      "text/plain": [
       "               Name    Customer_Segment  Customer_ID            Address  \\\n",
       "0     Pamela Wright  Store Mailing List            2   376 S Jasmine St   \n",
       "1     Danell Valdez  Store Mailing List            7   12066 E Lake Cir   \n",
       "2  Jessica Rinehart  Store Mailing List            8  7225 S Gaylord St   \n",
       "3       Nancy Clark  Store Mailing List            9   4497 Cornish Way   \n",
       "4       Andrea Brun  Store Mailing List           10     2316 E 5th Ave   \n",
       "\n",
       "                City State    ZIP  Avg_Sale_Amount  Store_Number  \\\n",
       "0             Denver    CO  80224           227.90           100   \n",
       "1  Greenwood Village    CO  80111            55.00           105   \n",
       "2         Centennial    CO  80122           212.57           101   \n",
       "3             Denver    CO  80239           195.31           105   \n",
       "4             Denver    CO  80206           110.55           100   \n",
       "\n",
       "  Responded_to_Last_Catalog  Avg_Num_Products_Purchased  #_Years_as_Customer  \n",
       "0                        No                           1                    6  \n",
       "1                       Yes                           1                    6  \n",
       "2                        No                           1                    3  \n",
       "3                       Yes                           1                    6  \n",
       "4                       Yes                           1                    2  "
      ]
     },
     "execution_count": 3,
     "metadata": {},
     "output_type": "execute_result"
    }
   ],
   "source": [
    "df = pd.read_excel('./Desktop/Udacity/LinearRegression/LinearRegression/p1-customers.xlsx')\n",
    "df.head()"
   ]
  },
  {
   "cell_type": "code",
   "execution_count": 3,
   "metadata": {},
   "outputs": [
    {
     "data": {
      "text/html": [
       "<div>\n",
       "<style scoped>\n",
       "    .dataframe tbody tr th:only-of-type {\n",
       "        vertical-align: middle;\n",
       "    }\n",
       "\n",
       "    .dataframe tbody tr th {\n",
       "        vertical-align: top;\n",
       "    }\n",
       "\n",
       "    .dataframe thead th {\n",
       "        text-align: right;\n",
       "    }\n",
       "</style>\n",
       "<table border=\"1\" class=\"dataframe\">\n",
       "  <thead>\n",
       "    <tr style=\"text-align: right;\">\n",
       "      <th></th>\n",
       "      <th>Customer_ID</th>\n",
       "      <th>ZIP</th>\n",
       "      <th>Avg_Sale_Amount</th>\n",
       "      <th>Store_Number</th>\n",
       "      <th>Avg_Num_Products_Purchased</th>\n",
       "      <th>#_Years_as_Customer</th>\n",
       "    </tr>\n",
       "  </thead>\n",
       "  <tbody>\n",
       "    <tr>\n",
       "      <th>count</th>\n",
       "      <td>2375.000000</td>\n",
       "      <td>2375.000000</td>\n",
       "      <td>2375.000000</td>\n",
       "      <td>2375.000000</td>\n",
       "      <td>2375.000000</td>\n",
       "      <td>2375.000000</td>\n",
       "    </tr>\n",
       "    <tr>\n",
       "      <th>mean</th>\n",
       "      <td>1647.845474</td>\n",
       "      <td>80123.333474</td>\n",
       "      <td>399.774093</td>\n",
       "      <td>104.297684</td>\n",
       "      <td>3.347368</td>\n",
       "      <td>4.500632</td>\n",
       "    </tr>\n",
       "    <tr>\n",
       "      <th>std</th>\n",
       "      <td>962.728105</td>\n",
       "      <td>107.255770</td>\n",
       "      <td>340.115808</td>\n",
       "      <td>2.837240</td>\n",
       "      <td>2.738568</td>\n",
       "      <td>2.309986</td>\n",
       "    </tr>\n",
       "    <tr>\n",
       "      <th>min</th>\n",
       "      <td>2.000000</td>\n",
       "      <td>80002.000000</td>\n",
       "      <td>1.220000</td>\n",
       "      <td>100.000000</td>\n",
       "      <td>1.000000</td>\n",
       "      <td>1.000000</td>\n",
       "    </tr>\n",
       "    <tr>\n",
       "      <th>25%</th>\n",
       "      <td>820.500000</td>\n",
       "      <td>80014.000000</td>\n",
       "      <td>168.925000</td>\n",
       "      <td>101.000000</td>\n",
       "      <td>1.000000</td>\n",
       "      <td>2.000000</td>\n",
       "    </tr>\n",
       "    <tr>\n",
       "      <th>50%</th>\n",
       "      <td>1629.000000</td>\n",
       "      <td>80123.000000</td>\n",
       "      <td>281.320000</td>\n",
       "      <td>105.000000</td>\n",
       "      <td>3.000000</td>\n",
       "      <td>5.000000</td>\n",
       "    </tr>\n",
       "    <tr>\n",
       "      <th>75%</th>\n",
       "      <td>2492.500000</td>\n",
       "      <td>80221.000000</td>\n",
       "      <td>572.400000</td>\n",
       "      <td>107.000000</td>\n",
       "      <td>5.000000</td>\n",
       "      <td>6.000000</td>\n",
       "    </tr>\n",
       "    <tr>\n",
       "      <th>max</th>\n",
       "      <td>3335.000000</td>\n",
       "      <td>80640.000000</td>\n",
       "      <td>2963.490000</td>\n",
       "      <td>109.000000</td>\n",
       "      <td>26.000000</td>\n",
       "      <td>8.000000</td>\n",
       "    </tr>\n",
       "  </tbody>\n",
       "</table>\n",
       "</div>"
      ],
      "text/plain": [
       "       Customer_ID           ZIP  Avg_Sale_Amount  Store_Number  \\\n",
       "count  2375.000000   2375.000000      2375.000000   2375.000000   \n",
       "mean   1647.845474  80123.333474       399.774093    104.297684   \n",
       "std     962.728105    107.255770       340.115808      2.837240   \n",
       "min       2.000000  80002.000000         1.220000    100.000000   \n",
       "25%     820.500000  80014.000000       168.925000    101.000000   \n",
       "50%    1629.000000  80123.000000       281.320000    105.000000   \n",
       "75%    2492.500000  80221.000000       572.400000    107.000000   \n",
       "max    3335.000000  80640.000000      2963.490000    109.000000   \n",
       "\n",
       "       Avg_Num_Products_Purchased  #_Years_as_Customer  \n",
       "count                 2375.000000          2375.000000  \n",
       "mean                     3.347368             4.500632  \n",
       "std                      2.738568             2.309986  \n",
       "min                      1.000000             1.000000  \n",
       "25%                      1.000000             2.000000  \n",
       "50%                      3.000000             5.000000  \n",
       "75%                      5.000000             6.000000  \n",
       "max                     26.000000             8.000000  "
      ]
     },
     "execution_count": 3,
     "metadata": {},
     "output_type": "execute_result"
    }
   ],
   "source": [
    "df.describe()"
   ]
  },
  {
   "cell_type": "code",
   "execution_count": 4,
   "metadata": {},
   "outputs": [
    {
     "data": {
      "image/png": "[encoded data removed]",
      "text/plain": [
       "<Figure size 432x288 with 1 Axes>"
      ]
     },
     "metadata": {
      "needs_background": "light"
     },
     "output_type": "display_data"
    }
   ],
   "source": [
    "plt.scatter(df.Avg_Num_Products_Purchased,df.Avg_Sale_Amount)\n",
    "plt.xlabel('Average Number of Products Purchased')\n",
    "plt.ylabel('Average Sale Amount')\n",
    "plt.show()"
   ]
  },
  {
   "cell_type": "code",
   "execution_count": 5,
   "metadata": {},
   "outputs": [
    {
     "data": {
      "image/png": "[encoded data removed]",
      "text/plain": [
       "<Figure size 432x288 with 1 Axes>"
      ]
     },
     "metadata": {
      "needs_background": "light"
     },
     "output_type": "display_data"
    }
   ],
   "source": [
    "plt.scatter(df['#_Years_as_Customer'],df['Avg_Sale_Amount'])\n",
    "plt.xlabel('#_Years_as_Customer')\n",
    "plt.ylabel('Average Sale Amount')\n",
    "plt.show()"
   ]
  },
  {
   "cell_type": "markdown",
   "metadata": {},
   "source": [
    "<p>From the above plots, we can say that there is strong correlation between Avg_Num_Products_Purchased and Avg_Sale_Amount and there is no relation between no_of_Years_as_Customer and Avg_Sale_Amount.</p>\n",
    "<p> Creating a model using Customer_Segment and Avg_Num_Products_Purchased as predictor variable where as Avg_Sale_Amount as target variable. "
   ]
  },
  {
   "cell_type": "code",
   "execution_count": 6,
   "metadata": {},
   "outputs": [
    {
     "data": {
      "text/html": [
       "<div>\n",
       "<style scoped>\n",
       "    .dataframe tbody tr th:only-of-type {\n",
       "        vertical-align: middle;\n",
       "    }\n",
       "\n",
       "    .dataframe tbody tr th {\n",
       "        vertical-align: top;\n",
       "    }\n",
       "\n",
       "    .dataframe thead th {\n",
       "        text-align: right;\n",
       "    }\n",
       "</style>\n",
       "<table border=\"1\" class=\"dataframe\">\n",
       "  <thead>\n",
       "    <tr style=\"text-align: right;\">\n",
       "      <th></th>\n",
       "      <th>Customer_Segment</th>\n",
       "      <th>Avg_Num_Products_Purchased</th>\n",
       "      <th>Avg_Sale_Amount</th>\n",
       "    </tr>\n",
       "  </thead>\n",
       "  <tbody>\n",
       "    <tr>\n",
       "      <th>0</th>\n",
       "      <td>Store Mailing List</td>\n",
       "      <td>1</td>\n",
       "      <td>227.90</td>\n",
       "    </tr>\n",
       "    <tr>\n",
       "      <th>1</th>\n",
       "      <td>Store Mailing List</td>\n",
       "      <td>1</td>\n",
       "      <td>55.00</td>\n",
       "    </tr>\n",
       "    <tr>\n",
       "      <th>2</th>\n",
       "      <td>Store Mailing List</td>\n",
       "      <td>1</td>\n",
       "      <td>212.57</td>\n",
       "    </tr>\n",
       "    <tr>\n",
       "      <th>3</th>\n",
       "      <td>Store Mailing List</td>\n",
       "      <td>1</td>\n",
       "      <td>195.31</td>\n",
       "    </tr>\n",
       "    <tr>\n",
       "      <th>4</th>\n",
       "      <td>Store Mailing List</td>\n",
       "      <td>1</td>\n",
       "      <td>110.55</td>\n",
       "    </tr>\n",
       "  </tbody>\n",
       "</table>\n",
       "</div>"
      ],
      "text/plain": [
       "     Customer_Segment  Avg_Num_Products_Purchased  Avg_Sale_Amount\n",
       "0  Store Mailing List                           1           227.90\n",
       "1  Store Mailing List                           1            55.00\n",
       "2  Store Mailing List                           1           212.57\n",
       "3  Store Mailing List                           1           195.31\n",
       "4  Store Mailing List                           1           110.55"
      ]
     },
     "execution_count": 6,
     "metadata": {},
     "output_type": "execute_result"
    }
   ],
   "source": [
    "cdf = df[['Customer_Segment','Avg_Num_Products_Purchased','Avg_Sale_Amount']]\n",
    "cdf.head()"
   ]
  },
  {
   "cell_type": "markdown",
   "metadata": {},
   "source": [
    "#### Train and test data"
   ]
  },
  {
   "cell_type": "code",
   "execution_count": 7,
   "metadata": {
    "scrolled": true
   },
   "outputs": [],
   "source": [
    "df1 = pd.get_dummies(cdf, columns=['Customer_Segment'])"
   ]
  },
  {
   "cell_type": "code",
   "execution_count": 8,
   "metadata": {},
   "outputs": [],
   "source": [
    "msk = np.random.rand(len(df)) < 0.8\n",
    "train = df1[msk]\n",
    "test = df1[~msk]"
   ]
  },
  {
   "cell_type": "code",
   "execution_count": 9,
   "metadata": {},
   "outputs": [
    {
     "data": {
      "text/html": [
       "<div>\n",
       "<style scoped>\n",
       "    .dataframe tbody tr th:only-of-type {\n",
       "        vertical-align: middle;\n",
       "    }\n",
       "\n",
       "    .dataframe tbody tr th {\n",
       "        vertical-align: top;\n",
       "    }\n",
       "\n",
       "    .dataframe thead th {\n",
       "        text-align: right;\n",
       "    }\n",
       "</style>\n",
       "<table border=\"1\" class=\"dataframe\">\n",
       "  <thead>\n",
       "    <tr style=\"text-align: right;\">\n",
       "      <th></th>\n",
       "      <th>Avg_Num_Products_Purchased</th>\n",
       "      <th>Avg_Sale_Amount</th>\n",
       "      <th>Customer_Segment_Credit Card Only</th>\n",
       "      <th>Customer_Segment_Loyalty Club Only</th>\n",
       "      <th>Customer_Segment_Loyalty Club and Credit Card</th>\n",
       "      <th>Customer_Segment_Store Mailing List</th>\n",
       "    </tr>\n",
       "  </thead>\n",
       "  <tbody>\n",
       "    <tr>\n",
       "      <th>0</th>\n",
       "      <td>1</td>\n",
       "      <td>227.90</td>\n",
       "      <td>0</td>\n",
       "      <td>0</td>\n",
       "      <td>0</td>\n",
       "      <td>1</td>\n",
       "    </tr>\n",
       "    <tr>\n",
       "      <th>1</th>\n",
       "      <td>1</td>\n",
       "      <td>55.00</td>\n",
       "      <td>0</td>\n",
       "      <td>0</td>\n",
       "      <td>0</td>\n",
       "      <td>1</td>\n",
       "    </tr>\n",
       "    <tr>\n",
       "      <th>2</th>\n",
       "      <td>1</td>\n",
       "      <td>212.57</td>\n",
       "      <td>0</td>\n",
       "      <td>0</td>\n",
       "      <td>0</td>\n",
       "      <td>1</td>\n",
       "    </tr>\n",
       "    <tr>\n",
       "      <th>3</th>\n",
       "      <td>1</td>\n",
       "      <td>195.31</td>\n",
       "      <td>0</td>\n",
       "      <td>0</td>\n",
       "      <td>0</td>\n",
       "      <td>1</td>\n",
       "    </tr>\n",
       "    <tr>\n",
       "      <th>4</th>\n",
       "      <td>1</td>\n",
       "      <td>110.55</td>\n",
       "      <td>0</td>\n",
       "      <td>0</td>\n",
       "      <td>0</td>\n",
       "      <td>1</td>\n",
       "    </tr>\n",
       "  </tbody>\n",
       "</table>\n",
       "</div>"
      ],
      "text/plain": [
       "   Avg_Num_Products_Purchased  Avg_Sale_Amount  \\\n",
       "0                           1           227.90   \n",
       "1                           1            55.00   \n",
       "2                           1           212.57   \n",
       "3                           1           195.31   \n",
       "4                           1           110.55   \n",
       "\n",
       "   Customer_Segment_Credit Card Only  Customer_Segment_Loyalty Club Only  \\\n",
       "0                                  0                                   0   \n",
       "1                                  0                                   0   \n",
       "2                                  0                                   0   \n",
       "3                                  0                                   0   \n",
       "4                                  0                                   0   \n",
       "\n",
       "   Customer_Segment_Loyalty Club and Credit Card  \\\n",
       "0                                              0   \n",
       "1                                              0   \n",
       "2                                              0   \n",
       "3                                              0   \n",
       "4                                              0   \n",
       "\n",
       "   Customer_Segment_Store Mailing List  \n",
       "0                                    1  \n",
       "1                                    1  \n",
       "2                                    1  \n",
       "3                                    1  \n",
       "4                                    1  "
      ]
     },
     "execution_count": 9,
     "metadata": {},
     "output_type": "execute_result"
    }
   ],
   "source": [
    "train.head()"
   ]
  },
  {
   "cell_type": "code",
   "execution_count": 10,
   "metadata": {},
   "outputs": [
    {
     "data": {
      "image/png": "[encoded data removed]",
      "text/plain": [
       "<Figure size 432x288 with 1 Axes>"
      ]
     },
     "metadata": {
      "needs_background": "light"
     },
     "output_type": "display_data"
    }
   ],
   "source": [
    "plt.scatter(train.Avg_Num_Products_Purchased,train.Avg_Sale_Amount)\n",
    "plt.xlabel('Average Number of Products Purchased')\n",
    "plt.ylabel('Average Sale Amount')\n",
    "plt.show()"
   ]
  },
  {
   "cell_type": "markdown",
   "metadata": {},
   "source": [
    "### Linear Regression Model"
   ]
  },
  {
   "cell_type": "markdown",
   "metadata": {},
   "source": [
    "#### Modeling"
   ]
  },
  {
   "cell_type": "code",
   "execution_count": 11,
   "metadata": {},
   "outputs": [
    {
     "name": "stdout",
     "output_type": "stream",
     "text": [
      "('Coefficients: ', array([[  65.20189967,   30.94436641, -121.08156062,  311.59403615,\n",
      "        -221.45684194]]))\n",
      "('Intercept: ', array([281.4177214]))\n",
      "65.20189966655914\n"
     ]
    }
   ],
   "source": [
    "from sklearn.linear_model import LinearRegression\n",
    "lm = LinearRegression()\n",
    "x = np.asanyarray(train[['Avg_Num_Products_Purchased', 'Customer_Segment_Credit Card Only','Customer_Segment_Loyalty Club Only','Customer_Segment_Loyalty Club and Credit Card','Customer_Segment_Store Mailing List']])\n",
    "y = np.asanyarray(train[['Avg_Sale_Amount']])\n",
    "lm.fit(x, y)\n",
    "\n",
    "print('Coefficients: ', lm.coef_)\n",
    "print('Intercept: ', lm.intercept_)\n",
    "print(lm.coef_[0][0])"
   ]
  },
  {
   "cell_type": "markdown",
   "metadata": {},
   "source": [
    "#### Plot Outputs"
   ]
  },
  {
   "cell_type": "code",
   "execution_count": 13,
   "metadata": {},
   "outputs": [
    {
     "data": {
      "image/png": "[encoded data removed]",
      "text/plain": [
       "<Figure size 432x288 with 1 Axes>"
      ]
     },
     "metadata": {
      "needs_background": "light"
     },
     "output_type": "display_data"
    }
   ],
   "source": [
    "plt.scatter(train.Avg_Num_Products_Purchased, train.Avg_Sale_Amount, color='blue')\n",
    "plt.plot(x, lm.coef_[0]*x + lm.intercept_[0], '-r')\n",
    "plt.xlabel('Average Number of Products Purchased')\n",
    "plt.ylabel('Average Sale Amount')\n",
    "plt.show()"
   ]
  },
  {
   "cell_type": "markdown",
   "metadata": {},
   "source": [
    "#### Evaluation"
   ]
  },
  {
   "cell_type": "code",
   "execution_count": 14,
   "metadata": {},
   "outputs": [
    {
     "name": "stdout",
     "output_type": "stream",
     "text": [
      "Mean absolute error: 100.21\n",
      "Residual sum of squares(RSME): 25.12\n",
      "R2-score: 0.76\n"
     ]
    }
   ],
   "source": [
    "from sklearn.metrics import r2_score\n",
    "\n",
    "test_x = np.asanyarray(test[['Avg_Num_Products_Purchased', 'Customer_Segment_Credit Card Only','Customer_Segment_Loyalty Club Only','Customer_Segment_Loyalty Club and Credit Card','Customer_Segment_Store Mailing List']])\n",
    "test_y = np.asanyarray(test[['Avg_Sale_Amount']])\n",
    "test_yhat = lm.predict(test_x)\n",
    "\n",
    "print(\"Mean absolute error: %.2f\" % np.mean(np.absolute(test_yhat-test_y)))\n",
    "print(\"Residual sum of squares(RSME): %.2f\" % np.mean(test_yhat-test_y)**2)\n",
    "print(\"R2-score: %.2f\" % r2_score(test_yhat, test_y))"
   ]
  },
  {
   "cell_type": "code",
   "execution_count": 15,
   "metadata": {},
   "outputs": [
    {
     "data": {
      "text/html": [
       "<div>\n",
       "<style scoped>\n",
       "    .dataframe tbody tr th:only-of-type {\n",
       "        vertical-align: middle;\n",
       "    }\n",
       "\n",
       "    .dataframe tbody tr th {\n",
       "        vertical-align: top;\n",
       "    }\n",
       "\n",
       "    .dataframe thead th {\n",
       "        text-align: right;\n",
       "    }\n",
       "</style>\n",
       "<table border=\"1\" class=\"dataframe\">\n",
       "  <thead>\n",
       "    <tr style=\"text-align: right;\">\n",
       "      <th></th>\n",
       "      <th>Name</th>\n",
       "      <th>Customer_Segment</th>\n",
       "      <th>Customer_ID</th>\n",
       "      <th>Address</th>\n",
       "      <th>City</th>\n",
       "      <th>State</th>\n",
       "      <th>ZIP</th>\n",
       "      <th>Store_Number</th>\n",
       "      <th>Avg_Num_Products_Purchased</th>\n",
       "      <th>#_Years_as_Customer</th>\n",
       "      <th>Score_No</th>\n",
       "      <th>Score_Yes</th>\n",
       "    </tr>\n",
       "  </thead>\n",
       "  <tbody>\n",
       "    <tr>\n",
       "      <th>0</th>\n",
       "      <td>A Giametti</td>\n",
       "      <td>Loyalty Club Only</td>\n",
       "      <td>2213</td>\n",
       "      <td>5326 S Lisbon Way</td>\n",
       "      <td>Centennial</td>\n",
       "      <td>CO</td>\n",
       "      <td>80015</td>\n",
       "      <td>105</td>\n",
       "      <td>3</td>\n",
       "      <td>0.2</td>\n",
       "      <td>0.694964</td>\n",
       "      <td>0.305036</td>\n",
       "    </tr>\n",
       "    <tr>\n",
       "      <th>1</th>\n",
       "      <td>Abby Pierson</td>\n",
       "      <td>Loyalty Club and Credit Card</td>\n",
       "      <td>2785</td>\n",
       "      <td>4344 W Roanoke Pl</td>\n",
       "      <td>Denver</td>\n",
       "      <td>CO</td>\n",
       "      <td>80236</td>\n",
       "      <td>101</td>\n",
       "      <td>6</td>\n",
       "      <td>0.6</td>\n",
       "      <td>0.527275</td>\n",
       "      <td>0.472725</td>\n",
       "    </tr>\n",
       "    <tr>\n",
       "      <th>2</th>\n",
       "      <td>Adele Hallman</td>\n",
       "      <td>Loyalty Club Only</td>\n",
       "      <td>2931</td>\n",
       "      <td>5219 S Delaware St</td>\n",
       "      <td>Englewood</td>\n",
       "      <td>CO</td>\n",
       "      <td>80110</td>\n",
       "      <td>101</td>\n",
       "      <td>7</td>\n",
       "      <td>0.9</td>\n",
       "      <td>0.421118</td>\n",
       "      <td>0.578882</td>\n",
       "    </tr>\n",
       "    <tr>\n",
       "      <th>3</th>\n",
       "      <td>Alejandra Baird</td>\n",
       "      <td>Loyalty Club Only</td>\n",
       "      <td>2231</td>\n",
       "      <td>2301 Lawrence St</td>\n",
       "      <td>Denver</td>\n",
       "      <td>CO</td>\n",
       "      <td>80205</td>\n",
       "      <td>103</td>\n",
       "      <td>2</td>\n",
       "      <td>0.6</td>\n",
       "      <td>0.694862</td>\n",
       "      <td>0.305138</td>\n",
       "    </tr>\n",
       "    <tr>\n",
       "      <th>4</th>\n",
       "      <td>Alice Dewitt</td>\n",
       "      <td>Loyalty Club Only</td>\n",
       "      <td>2530</td>\n",
       "      <td>5549 S Hannibal Way</td>\n",
       "      <td>Centennial</td>\n",
       "      <td>CO</td>\n",
       "      <td>80015</td>\n",
       "      <td>104</td>\n",
       "      <td>4</td>\n",
       "      <td>0.5</td>\n",
       "      <td>0.612294</td>\n",
       "      <td>0.387706</td>\n",
       "    </tr>\n",
       "  </tbody>\n",
       "</table>\n",
       "</div>"
      ],
      "text/plain": [
       "              Name              Customer_Segment  Customer_ID  \\\n",
       "0       A Giametti             Loyalty Club Only         2213   \n",
       "1     Abby Pierson  Loyalty Club and Credit Card         2785   \n",
       "2    Adele Hallman             Loyalty Club Only         2931   \n",
       "3  Alejandra Baird             Loyalty Club Only         2231   \n",
       "4     Alice Dewitt             Loyalty Club Only         2530   \n",
       "\n",
       "               Address        City State    ZIP  Store_Number  \\\n",
       "0    5326 S Lisbon Way  Centennial    CO  80015           105   \n",
       "1    4344 W Roanoke Pl      Denver    CO  80236           101   \n",
       "2   5219 S Delaware St   Englewood    CO  80110           101   \n",
       "3     2301 Lawrence St      Denver    CO  80205           103   \n",
       "4  5549 S Hannibal Way  Centennial    CO  80015           104   \n",
       "\n",
       "   Avg_Num_Products_Purchased  #_Years_as_Customer  Score_No  Score_Yes  \n",
       "0                           3                  0.2  0.694964   0.305036  \n",
       "1                           6                  0.6  0.527275   0.472725  \n",
       "2                           7                  0.9  0.421118   0.578882  \n",
       "3                           2                  0.6  0.694862   0.305138  \n",
       "4                           4                  0.5  0.612294   0.387706  "
      ]
     },
     "execution_count": 15,
     "metadata": {},
     "output_type": "execute_result"
    }
   ],
   "source": [
    "df_new = pd.read_excel('./Desktop/Udacity/LinearRegression/p1-mailinglist.xlsx')\n",
    "df_new.head()"
   ]
  },
  {
   "cell_type": "code",
   "execution_count": 17,
   "metadata": {},
   "outputs": [],
   "source": [
    "Avg_Revenue = []\n",
    "for i in range(0, len(df_new['Avg_Num_Products_Purchased'])):\n",
    "    \n",
    "    if df_new['Customer_Segment'][i] == 'Credit Card Only':\n",
    "        \n",
    "        Avg_Revenue.append(lm.intercept_[0] + (lm.coef_[0][0]*df_new['Avg_Num_Products_Purchased'][i]) + lm.coef_[0][1])\n",
    "    \n",
    "    elif df_new['Customer_Segment'][i] == 'Loyalty Club Only':\n",
    "        \n",
    "        Avg_Revenue.append(lm.intercept_[0] + (lm.coef_[0][0]*df_new['Avg_Num_Products_Purchased'][i]) + lm.coef_[0][2])\n",
    "    \n",
    "    elif df_new['Customer_Segment'][i] == 'Loyalty Club and Credit Card':\n",
    "        \n",
    "        Avg_Revenue.append(lm.intercept_[0] + (lm.coef_[0][0]*df_new['Avg_Num_Products_Purchased'][i]) + lm.coef_[0][3])\n",
    "        \n",
    "    else:\n",
    "        \n",
    "        Avg_Revenue.append(lm.intercept_[0] + (lm.coef_[0][0]*df_new['Avg_Num_Products_Purchased'][i]) + lm.coef_[0][4])\n",
    "        \n",
    "#print(Avg_Revenue)           "
   ]
  },
  {
   "cell_type": "code",
   "execution_count": 18,
   "metadata": {},
   "outputs": [
    {
     "data": {
      "text/html": [
       "<div>\n",
       "<style scoped>\n",
       "    .dataframe tbody tr th:only-of-type {\n",
       "        vertical-align: middle;\n",
       "    }\n",
       "\n",
       "    .dataframe tbody tr th {\n",
       "        vertical-align: top;\n",
       "    }\n",
       "\n",
       "    .dataframe thead th {\n",
       "        text-align: right;\n",
       "    }\n",
       "</style>\n",
       "<table border=\"1\" class=\"dataframe\">\n",
       "  <thead>\n",
       "    <tr style=\"text-align: right;\">\n",
       "      <th></th>\n",
       "      <th>Name</th>\n",
       "      <th>Customer_Segment</th>\n",
       "      <th>Customer_ID</th>\n",
       "      <th>Address</th>\n",
       "      <th>City</th>\n",
       "      <th>State</th>\n",
       "      <th>ZIP</th>\n",
       "      <th>Store_Number</th>\n",
       "      <th>Avg_Num_Products_Purchased</th>\n",
       "      <th>#_Years_as_Customer</th>\n",
       "      <th>Score_No</th>\n",
       "      <th>Score_Yes</th>\n",
       "      <th>Avg_Revenue</th>\n",
       "      <th>Profit</th>\n",
       "    </tr>\n",
       "  </thead>\n",
       "  <tbody>\n",
       "    <tr>\n",
       "      <th>0</th>\n",
       "      <td>A Giametti</td>\n",
       "      <td>Loyalty Club Only</td>\n",
       "      <td>2213</td>\n",
       "      <td>5326 S Lisbon Way</td>\n",
       "      <td>Centennial</td>\n",
       "      <td>CO</td>\n",
       "      <td>80015</td>\n",
       "      <td>105</td>\n",
       "      <td>3</td>\n",
       "      <td>0.2</td>\n",
       "      <td>0.694964</td>\n",
       "      <td>0.305036</td>\n",
       "      <td>108.575012</td>\n",
       "      <td>47.787506</td>\n",
       "    </tr>\n",
       "    <tr>\n",
       "      <th>1</th>\n",
       "      <td>Abby Pierson</td>\n",
       "      <td>Loyalty Club and Credit Card</td>\n",
       "      <td>2785</td>\n",
       "      <td>4344 W Roanoke Pl</td>\n",
       "      <td>Denver</td>\n",
       "      <td>CO</td>\n",
       "      <td>80236</td>\n",
       "      <td>101</td>\n",
       "      <td>6</td>\n",
       "      <td>0.6</td>\n",
       "      <td>0.527275</td>\n",
       "      <td>0.472725</td>\n",
       "      <td>465.266436</td>\n",
       "      <td>226.133218</td>\n",
       "    </tr>\n",
       "    <tr>\n",
       "      <th>2</th>\n",
       "      <td>Adele Hallman</td>\n",
       "      <td>Loyalty Club Only</td>\n",
       "      <td>2931</td>\n",
       "      <td>5219 S Delaware St</td>\n",
       "      <td>Englewood</td>\n",
       "      <td>CO</td>\n",
       "      <td>80110</td>\n",
       "      <td>101</td>\n",
       "      <td>7</td>\n",
       "      <td>0.9</td>\n",
       "      <td>0.421118</td>\n",
       "      <td>0.578882</td>\n",
       "      <td>357.025067</td>\n",
       "      <td>172.012534</td>\n",
       "    </tr>\n",
       "    <tr>\n",
       "      <th>3</th>\n",
       "      <td>Alejandra Baird</td>\n",
       "      <td>Loyalty Club Only</td>\n",
       "      <td>2231</td>\n",
       "      <td>2301 Lawrence St</td>\n",
       "      <td>Denver</td>\n",
       "      <td>CO</td>\n",
       "      <td>80205</td>\n",
       "      <td>103</td>\n",
       "      <td>2</td>\n",
       "      <td>0.6</td>\n",
       "      <td>0.694862</td>\n",
       "      <td>0.305138</td>\n",
       "      <td>88.715755</td>\n",
       "      <td>37.857878</td>\n",
       "    </tr>\n",
       "    <tr>\n",
       "      <th>4</th>\n",
       "      <td>Alice Dewitt</td>\n",
       "      <td>Loyalty Club Only</td>\n",
       "      <td>2530</td>\n",
       "      <td>5549 S Hannibal Way</td>\n",
       "      <td>Centennial</td>\n",
       "      <td>CO</td>\n",
       "      <td>80015</td>\n",
       "      <td>104</td>\n",
       "      <td>4</td>\n",
       "      <td>0.5</td>\n",
       "      <td>0.612294</td>\n",
       "      <td>0.387706</td>\n",
       "      <td>163.279901</td>\n",
       "      <td>75.139951</td>\n",
       "    </tr>\n",
       "  </tbody>\n",
       "</table>\n",
       "</div>"
      ],
      "text/plain": [
       "              Name              Customer_Segment  Customer_ID  \\\n",
       "0       A Giametti             Loyalty Club Only         2213   \n",
       "1     Abby Pierson  Loyalty Club and Credit Card         2785   \n",
       "2    Adele Hallman             Loyalty Club Only         2931   \n",
       "3  Alejandra Baird             Loyalty Club Only         2231   \n",
       "4     Alice Dewitt             Loyalty Club Only         2530   \n",
       "\n",
       "               Address        City State    ZIP  Store_Number  \\\n",
       "0    5326 S Lisbon Way  Centennial    CO  80015           105   \n",
       "1    4344 W Roanoke Pl      Denver    CO  80236           101   \n",
       "2   5219 S Delaware St   Englewood    CO  80110           101   \n",
       "3     2301 Lawrence St      Denver    CO  80205           103   \n",
       "4  5549 S Hannibal Way  Centennial    CO  80015           104   \n",
       "\n",
       "   Avg_Num_Products_Purchased  #_Years_as_Customer  Score_No  Score_Yes  \\\n",
       "0                           3                  0.2  0.694964   0.305036   \n",
       "1                           6                  0.6  0.527275   0.472725   \n",
       "2                           7                  0.9  0.421118   0.578882   \n",
       "3                           2                  0.6  0.694862   0.305138   \n",
       "4                           4                  0.5  0.612294   0.387706   \n",
       "\n",
       "   Avg_Revenue      Profit  \n",
       "0   108.575012   47.787506  \n",
       "1   465.266436  226.133218  \n",
       "2   357.025067  172.012534  \n",
       "3    88.715755   37.857878  \n",
       "4   163.279901   75.139951  "
      ]
     },
     "execution_count": 18,
     "metadata": {},
     "output_type": "execute_result"
    }
   ],
   "source": [
    "df_new['Avg_Revenue'] = Avg_Revenue\n",
    "df_new['Avg_Revenue'] = (df_new['Avg_Revenue']) * (df_new['Score_Yes'])\n",
    "df_new['Profit'] = (df_new['Avg_Revenue']*0.5) - 6.5\n",
    "df_new.head()"
   ]
  },
  {
   "cell_type": "code",
   "execution_count": 1,
   "metadata": {},
   "outputs": [
    {
     "ename": "NameError",
     "evalue": "name 'df_new' is not defined",
     "output_type": "error",
     "traceback": [
      "\u001b[1;31m\u001b[0m",
      "\u001b[1;31mNameError\u001b[0mTraceback (most recent call last)",
      "\u001b[1;32m<ipython-input-1-3150c052f363>\u001b[0m in \u001b[0;36m<module>\u001b[1;34m()\u001b[0m\n\u001b[1;32m----> 1\u001b[1;33m \u001b[0mdf_new\u001b[0m\u001b[1;33m[\u001b[0m\u001b[1;34m'Profit'\u001b[0m\u001b[1;33m]\u001b[0m\u001b[1;33m.\u001b[0m\u001b[0msum\u001b[0m\u001b[1;33m(\u001b[0m\u001b[1;33m)\u001b[0m\u001b[1;33m\u001b[0m\u001b[0m\n\u001b[0m",
      "\u001b[1;31mNameError\u001b[0m: name 'df_new' is not defined"
     ]
    }
   ],
   "source": [
    "df_new['Profit'].sum()"
   ]
  },
  {
   "cell_type": "markdown",
   "metadata": {},
   "source": [
    "\n",
    "###### What is the expected profit from the new catalog (assuming the catalog is sent to these 250 customers)?\n",
    "\n",
    "The expected profit the new 250 customers will be $21987.44\n"
   ]
  }
 ],
 "metadata": {
  "kernelspec": {
   "display_name": "Python 2",
   "language": "python",
   "name": "python2"
  },
  "language_info": {
   "codemirror_mode": {
    "name": "ipython",
    "version": 2
   },
   "file_extension": ".py",
   "mimetype": "text/x-python",
   "name": "python",
   "nbconvert_exporter": "python",
   "pygments_lexer": "ipython2",
   "version": "2.7.16"
  }
 },
 "nbformat": 4,
 "nbformat_minor": 2
}
